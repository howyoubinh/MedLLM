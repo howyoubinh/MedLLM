{
 "cells": [
  {
   "cell_type": "code",
   "execution_count": 1,
   "metadata": {},
   "outputs": [
    {
     "name": "stderr",
     "output_type": "stream",
     "text": [
      "/home/binh/miniconda3/envs/Medical_LLM/lib/python3.9/site-packages/tqdm/auto.py:21: TqdmWarning: IProgress not found. Please update jupyter and ipywidgets. See https://ipywidgets.readthedocs.io/en/stable/user_install.html\n",
      "  from .autonotebook import tqdm as notebook_tqdm\n"
     ]
    }
   ],
   "source": [
    "from datasets import load_dataset\n"
   ]
  },
  {
   "cell_type": "code",
   "execution_count": 2,
   "metadata": {},
   "outputs": [
    {
     "name": "stdout",
     "output_type": "stream",
     "text": [
      "Dataset Structure:\n",
      "DatasetDict({\n",
      "    train: Dataset({\n",
      "        features: ['output', 'source', 'instruction', 'input', 'sample_id'],\n",
      "        num_rows: 513999\n",
      "    })\n",
      "})\n",
      "\n",
      "Columns in the dataset:\n",
      "['output', 'source', 'instruction', 'input', 'sample_id']\n",
      "\n",
      "Column Info:\n",
      "{'output': Value(dtype='string', id=None), 'source': Value(dtype='string', id=None), 'instruction': Value(dtype='string', id=None), 'input': Value(dtype='string', id=None), 'sample_id': Value(dtype='int64', id=None)}\n",
      "\n",
      "First 9 examples:\n",
      "\n",
      "Example 1:\n",
      "output: ###Answer: OPTION D IS CORRECT....\n",
      "source: medqa_train...\n",
      "instruction: You're a doctor, kindly address the medical queries according to the patient's account.\n",
      "Answer with ...\n",
      "input: ###Question: A 23-year-old pregnant woman at 22 weeks gestation presents with burning upon urination...\n",
      "sample_id: 0\n",
      "\n",
      "Example 2:\n",
      "output: ###Rationale: The patient's presentation is indicative of urinary tract infection (UTI), which is co...\n",
      "source: medqa_train...\n",
      "instruction: You're a doctor, kindly address the medical queries according to the patient's account.\n",
      "Analyze the ...\n",
      "input: ###Question: A 23-year-old pregnant woman at 22 weeks gestation presents with burning upon urination...\n",
      "sample_id: 0\n",
      "\n",
      "Example 3:\n",
      "output: ###Rationale:\n",
      "Option A: Ampicillin\n",
      "Ampicillin is an antibiotic in the penicillin class that is commo...\n",
      "source: medqa_train...\n",
      "instruction: You're a doctor, kindly address the medical queries according to the patient's account.\n",
      "Analyze the ...\n",
      "input: ###Question: A 23-year-old pregnant woman at 22 weeks gestation presents with burning upon urination...\n",
      "sample_id: 0\n",
      "\n",
      "Example 4:\n",
      "output: ###Answer: OPTION A IS CORRECT....\n",
      "source: medqa_train...\n",
      "instruction: In your capacity as a doctor, it is expected that you answer the medical questions relying on the pa...\n",
      "input: ###Question: A 3-month-old baby died suddenly at night while asleep. His mother noticed that he had ...\n",
      "sample_id: 1\n",
      "\n",
      "Example 5:\n",
      "output: ###Rationale: The scenario describes a case of sudden infant death syndrome (SIDS), also known as cr...\n",
      "source: medqa_train...\n",
      "instruction: In your capacity as a doctor, it is expected that you answer the medical questions relying on the pa...\n",
      "input: ###Question: A 3-month-old baby died suddenly at night while asleep. His mother noticed that he had ...\n",
      "sample_id: 1\n",
      "\n",
      "Example 6:\n",
      "output: ###Rationale:\n",
      "Option A: Placing the infant in a supine position on a firm mattress while sleeping.\n",
      "T...\n",
      "source: medqa_train...\n",
      "instruction: In your capacity as a doctor, it is expected that you answer the medical questions relying on the pa...\n",
      "input: ###Question: A 3-month-old baby died suddenly at night while asleep. His mother noticed that he had ...\n",
      "sample_id: 1\n",
      "\n",
      "Example 7:\n",
      "output: ###Answer: OPTION A IS CORRECT....\n",
      "source: medqa_train...\n",
      "instruction: Your identity is a doctor, kindly provide answers to the medical questions with consideration of the...\n",
      "input: ###Question: A mother brings her 3-week-old infant to the pediatrician's office because she is conce...\n",
      "sample_id: 2\n",
      "\n",
      "Example 8:\n",
      "output: ###Rationale: The answer is Option C Abnormal hypertrophy of the pylorus, so the analysis is as foll...\n",
      "source: medqa_train...\n",
      "instruction: Your identity is a doctor, kindly provide answers to the medical questions with consideration of the...\n",
      "input: ###Question: A mother brings her 3-week-old infant to the pediatrician's office because she is conce...\n",
      "sample_id: 2\n",
      "\n",
      "Example 9:\n",
      "output: ###Rationale:\n",
      "Option A: Abnormal migration of ventral pancreatic bud \n",
      "The ventral pancreatic bud is ...\n",
      "source: medqa_train...\n",
      "instruction: Your identity is a doctor, kindly provide answers to the medical questions with consideration of the...\n",
      "input: ###Question: A mother brings her 3-week-old infant to the pediatrician's office because she is conce...\n",
      "sample_id: 2\n"
     ]
    }
   ],
   "source": [
    "ds = load_dataset(\"axiong/pmc_llama_instructions\")\n",
    "print(\"Dataset Structure:\")\n",
    "print(ds)\n",
    "\n",
    "# first split ('train')\n",
    "first_split = list(ds.keys())[0]\n",
    "\n",
    "print(\"\\nColumns in the dataset:\")\n",
    "print(ds[first_split].column_names)\n",
    "\n",
    "print(\"\\nColumn Info:\")\n",
    "print(ds[first_split].info.features)\n",
    "\n",
    "print(\"\\nFirst 9 examples:\")\n",
    "for i, example in enumerate(ds[first_split].select(range(9))):\n",
    "    print(f\"\\nExample {i + 1}:\")\n",
    "    for key, value in example.items():\n",
    "        print(f\"{key}: {value[:100]}...\" if isinstance(value, str) else f\"{key}: {value}\")"
   ]
  }
 ],
 "metadata": {
  "kernelspec": {
   "display_name": "PD",
   "language": "python",
   "name": "python3"
  },
  "language_info": {
   "codemirror_mode": {
    "name": "ipython",
    "version": 3
   },
   "file_extension": ".py",
   "mimetype": "text/x-python",
   "name": "python",
   "nbconvert_exporter": "python",
   "pygments_lexer": "ipython3",
   "version": "3.9.19"
  }
 },
 "nbformat": 4,
 "nbformat_minor": 2
}
